{
 "cells": [
  {
   "cell_type": "code",
   "execution_count": 1,
   "metadata": {
    "collapsed": true
   },
   "outputs": [],
   "source": [
    "import numpy as np\n",
    "import scipy as sp\n",
    "%matplotlib inline\n",
    "import matplotlib.pyplot as plt\n",
    "from collections import defaultdict\n",
    "import re\n",
    "from sklearn.metrics.pairwise import cosine_similarity"
   ]
  },
  {
   "cell_type": "code",
   "execution_count": 2,
   "metadata": {
    "collapsed": true
   },
   "outputs": [],
   "source": [
    "with open(\"train.dat\", \"r\") as fh:\n",
    "    lines = fh.readlines()  "
   ]
  },
  {
   "cell_type": "code",
   "execution_count": 3,
   "metadata": {
    "collapsed": true
   },
   "outputs": [],
   "source": [
    "with open(\"english\", \"r\") as fh:\n",
    "    lines22 = fh.readlines() \n",
    "\n",
    "stop_words = []\n",
    "for l in lines22:\n",
    "    l = l.replace('\\n','')\n",
    "    if len(l)<3:\n",
    "        continue\n",
    "    stop_words.append(l.lower())"
   ]
  },
  {
   "cell_type": "code",
   "execution_count": 4,
   "metadata": {
    "collapsed": true
   },
   "outputs": [],
   "source": [
    "def clean(raw):\n",
    "  cleanr = re.compile('<.*?>')\n",
    "  cleantext = re.sub(cleanr, ' ', raw)\n",
    "  #cleanr = re.compile('n\\'t')\n",
    "  #cleantext = re.sub(cleanr, ' not', cleantext)\n",
    "  #cleanr = re.compile('\\'ll')\n",
    "  #cleantext = re.sub(cleanr, ' will', cleantext)\n",
    "  #cleanr = re.compile('\\'s')\n",
    "  #cleantext = re.sub(cleanr, '', cleantext)\n",
    "  cleanr = re.compile('[^a-zA-Z0-9]')\n",
    "  cleantext = re.sub(cleanr, ' ', cleantext)\n",
    "  for w in stop_words:\n",
    "    cleanr = re.compile(w)\n",
    "    cleantext = re.sub(cleanr, '', cleantext)\n",
    "  cleanr = re.compile(r'\\W*\\b\\w{1,2}\\b')\n",
    "  cleantext = re.sub(cleanr, '', cleantext)\n",
    "  return cleantext.lower()"
   ]
  },
  {
   "cell_type": "code",
   "execution_count": 5,
   "metadata": {
    "collapsed": true
   },
   "outputs": [],
   "source": [
    "\n",
    "def group(inp, n = 2):\n",
    "    for i in xrange(len(inp) - (n - 1)):\n",
    "        yield inp[i:i+n]\n",
    "\n",
    "def group2words(inp):\n",
    "    comb_2_words = []\n",
    "    for f, s in group(inp, 2):\n",
    "        comb = f + \" \"+s\n",
    "        comb_2_words.append(comb)\n",
    "    return comb_2_words\n",
    "\n",
    "def group3words(inp):\n",
    "    comb_3_words = []\n",
    "    for f, s, t in group(inp, 3):\n",
    "        comb = f + \" \"+s + \" \"+t\n",
    "        comb_3_words.append(comb)\n",
    "    return comb_3_words\n",
    "\n",
    "def getKmers(inp):\n",
    "    kmers=[]\n",
    "    comb_2_words = group2words(inp)\n",
    "    for comb in comb_2_words:\n",
    "        kmers.append(comb)\n",
    "    comb_3_words = group3words(inp)\n",
    "    for comb in comb_3_words:\n",
    "        kmers.append(comb)\n",
    "    return kmers"
   ]
  },
  {
   "cell_type": "code",
   "execution_count": 6,
   "metadata": {},
   "outputs": [],
   "source": [
    "labels = [int(l[:2]) for l in lines]\n",
    "docs = [clean(l[2:]).split() for l in lines]"
   ]
  },
  {
   "cell_type": "code",
   "execution_count": 7,
   "metadata": {
    "collapsed": true
   },
   "outputs": [],
   "source": [
    "for d in docs:\n",
    "        kmers = getKmers(d)\n",
    "        d.extend(kmers)"
   ]
  },
  {
   "cell_type": "code",
   "execution_count": 8,
   "metadata": {},
   "outputs": [
    {
     "name": "stdout",
     "output_type": "stream",
     "text": [
      "25000\n",
      "['although', 'film', 'bruce', 'willis', 'always', 'worth', 'watching', 'better', 'skip', 'one', 'watched', 'one', 'television', 'plunk', 'cash', 'lucky', 'the', 'plot', 'develops', 'slowly', 'slowly', 'although', 'first', 'minutes', 'quite', 'believable', 'gets', 'unbelievable', 'towards', 'end', 'highly', 'questionable', 'seasoned', 'soldier', 'like', 'waters', 'would', 'disobey', 'direct', 'orders', 'and', 'even', 'would', 'rest', 'plan', 'would', 'they', 'puts', 'direct', 'danger', 'certly', 'die', 'follow', 'heck', 'let', 'says', 'despite', 'direct', 'orders', 'remember', 'still', 'nice', 'scenes', 'movie', 'they', 'save', 'village', 'total', 'population', 'massacred', 'rebels', 'well', 'save', 'dozen', 'villagers', 'rest', 'already', 'killed', 'the', 'strange', 'part', 'take', 'trucks', 'rebels', 'left', 'behind', 'they', 'rat', 'foot', 'maybe', 'roads', 'unsafe', 'explanation', 'anyway', 'think', 'earned', 'movie', 'one', 'point', 'gave', 'what', 'made', 'movie', 'insult', 'hence', 'completely', 'unbelievable', 'group', 'soldiers', 'kill', 'rebels', 'hurt', 'killed', 'selves', 'only', 'near', 'end', 'loose', 'comrades', 'and', 'fight', 'army', 'nearly', '500', 'can', 'believe', 'they', 'fight', 'army', 'kill', 'hundreds', 'loose', 'selves', 'and', 'rounds', 'round', 'ammo', 'never', 'run', 'grenades', 'clay', 'mines', 'm60', 'machine', 'gun', 'even', 'rpg', 'get', 'stuff', 'carrying', 'around', 'they', 'even', 'got', 'laptop', 'activity', 'enemy', 'rebels', 'and', 'laptop', 'battery', 'goes', 'days', 'rey', 'who', 'think', 'crap', 'guess', 'turn', 'completely', 'accept', 'rebels', 'bunch', 'idiots', 'give', 'movie', 'high', 'rating', 'skip', 'one', 'saves', 'time', 'although film', 'film bruce', 'bruce willis', 'willis always', 'always worth', 'worth watching', 'watching better', 'better skip', 'skip one', 'one watched', 'watched one', 'one television', 'television plunk', 'plunk cash', 'cash lucky', 'lucky the', 'the plot', 'plot develops', 'develops slowly', 'slowly slowly', 'slowly although', 'although first', 'first minutes', 'minutes quite', 'quite believable', 'believable gets', 'gets unbelievable', 'unbelievable towards', 'towards end', 'end highly', 'highly questionable', 'questionable seasoned', 'seasoned soldier', 'soldier like', 'like waters', 'waters would', 'would disobey', 'disobey direct', 'direct orders', 'orders and', 'and even', 'even would', 'would rest', 'rest plan', 'plan would', 'would they', 'they puts', 'puts direct', 'direct danger', 'danger certly', 'certly die', 'die follow', 'follow heck', 'heck let', 'let says', 'says despite', 'despite direct', 'direct orders', 'orders remember', 'remember still', 'still nice', 'nice scenes', 'scenes movie', 'movie they', 'they save', 'save village', 'village total', 'total population', 'population massacred', 'massacred rebels', 'rebels well', 'well save', 'save dozen', 'dozen villagers', 'villagers rest', 'rest already', 'already killed', 'killed the', 'the strange', 'strange part', 'part take', 'take trucks', 'trucks rebels', 'rebels left', 'left behind', 'behind they', 'they rat', 'rat foot', 'foot maybe', 'maybe roads', 'roads unsafe', 'unsafe explanation', 'explanation anyway', 'anyway think', 'think earned', 'earned movie', 'movie one', 'one point', 'point gave', 'gave what', 'what made', 'made movie', 'movie insult', 'insult hence', 'hence completely', 'completely unbelievable', 'unbelievable group', 'group soldiers', 'soldiers kill', 'kill rebels', 'rebels hurt', 'hurt killed', 'killed selves', 'selves only', 'only near', 'near end', 'end loose', 'loose comrades', 'comrades and', 'and fight', 'fight army', 'army nearly', 'nearly 500', '500 can', 'can believe', 'believe they', 'they fight', 'fight army', 'army kill', 'kill hundreds', 'hundreds loose', 'loose selves', 'selves and', 'and rounds', 'rounds round', 'round ammo', 'ammo never', 'never run', 'run grenades', 'grenades clay', 'clay mines', 'mines m60', 'm60 machine', 'machine gun', 'gun even', 'even rpg', 'rpg get', 'get stuff', 'stuff carrying', 'carrying around', 'around they', 'they even', 'even got', 'got laptop', 'laptop activity', 'activity enemy', 'enemy rebels', 'rebels and', 'and laptop', 'laptop battery', 'battery goes', 'goes days', 'days rey', 'rey who', 'who think', 'think crap', 'crap guess', 'guess turn', 'turn completely', 'completely accept', 'accept rebels', 'rebels bunch', 'bunch idiots', 'idiots give', 'give movie', 'movie high', 'high rating', 'rating skip', 'skip one', 'one saves', 'saves time', 'although film bruce', 'film bruce willis', 'bruce willis always', 'willis always worth', 'always worth watching', 'worth watching better', 'watching better skip', 'better skip one', 'skip one watched', 'one watched one', 'watched one television', 'one television plunk', 'television plunk cash', 'plunk cash lucky', 'cash lucky the', 'lucky the plot', 'the plot develops', 'plot develops slowly', 'develops slowly slowly', 'slowly slowly although', 'slowly although first', 'although first minutes', 'first minutes quite', 'minutes quite believable', 'quite believable gets', 'believable gets unbelievable', 'gets unbelievable towards', 'unbelievable towards end', 'towards end highly', 'end highly questionable', 'highly questionable seasoned', 'questionable seasoned soldier', 'seasoned soldier like', 'soldier like waters', 'like waters would', 'waters would disobey', 'would disobey direct', 'disobey direct orders', 'direct orders and', 'orders and even', 'and even would', 'even would rest', 'would rest plan', 'rest plan would', 'plan would they', 'would they puts', 'they puts direct', 'puts direct danger', 'direct danger certly', 'danger certly die', 'certly die follow', 'die follow heck', 'follow heck let', 'heck let says', 'let says despite', 'says despite direct', 'despite direct orders', 'direct orders remember', 'orders remember still', 'remember still nice', 'still nice scenes', 'nice scenes movie', 'scenes movie they', 'movie they save', 'they save village', 'save village total', 'village total population', 'total population massacred', 'population massacred rebels', 'massacred rebels well', 'rebels well save', 'well save dozen', 'save dozen villagers', 'dozen villagers rest', 'villagers rest already', 'rest already killed', 'already killed the', 'killed the strange', 'the strange part', 'strange part take', 'part take trucks', 'take trucks rebels', 'trucks rebels left', 'rebels left behind', 'left behind they', 'behind they rat', 'they rat foot', 'rat foot maybe', 'foot maybe roads', 'maybe roads unsafe', 'roads unsafe explanation', 'unsafe explanation anyway', 'explanation anyway think', 'anyway think earned', 'think earned movie', 'earned movie one', 'movie one point', 'one point gave', 'point gave what', 'gave what made', 'what made movie', 'made movie insult', 'movie insult hence', 'insult hence completely', 'hence completely unbelievable', 'completely unbelievable group', 'unbelievable group soldiers', 'group soldiers kill', 'soldiers kill rebels', 'kill rebels hurt', 'rebels hurt killed', 'hurt killed selves', 'killed selves only', 'selves only near', 'only near end', 'near end loose', 'end loose comrades', 'loose comrades and', 'comrades and fight', 'and fight army', 'fight army nearly', 'army nearly 500', 'nearly 500 can', '500 can believe', 'can believe they', 'believe they fight', 'they fight army', 'fight army kill', 'army kill hundreds', 'kill hundreds loose', 'hundreds loose selves', 'loose selves and', 'selves and rounds', 'and rounds round', 'rounds round ammo', 'round ammo never', 'ammo never run', 'never run grenades', 'run grenades clay', 'grenades clay mines', 'clay mines m60', 'mines m60 machine', 'm60 machine gun', 'machine gun even', 'gun even rpg', 'even rpg get', 'rpg get stuff', 'get stuff carrying', 'stuff carrying around', 'carrying around they', 'around they even', 'they even got', 'even got laptop', 'got laptop activity', 'laptop activity enemy', 'activity enemy rebels', 'enemy rebels and', 'rebels and laptop', 'and laptop battery', 'laptop battery goes', 'battery goes days', 'goes days rey', 'days rey who', 'rey who think', 'who think crap', 'think crap guess', 'crap guess turn', 'guess turn completely', 'turn completely accept', 'completely accept rebels', 'accept rebels bunch', 'rebels bunch idiots', 'bunch idiots give', 'idiots give movie', 'give movie high', 'movie high rating', 'high rating skip', 'rating skip one', 'skip one saves', 'one saves time']\n"
     ]
    }
   ],
   "source": [
    "length_training = len(docs)\n",
    "print length_training\n",
    "print (docs[0])"
   ]
  },
  {
   "cell_type": "code",
   "execution_count": 9,
   "metadata": {
    "collapsed": true
   },
   "outputs": [],
   "source": [
    "# open docs file and read its lines\n",
    "with open(\"test.dat\", \"r\") as fh:\n",
    "    lines = fh.readlines() \n",
    "\n",
    "docs_test = [clean(l).split() for l in lines]\n",
    "\n",
    "for d in docs_test:\n",
    "        kmers = getKmers(d)\n",
    "        d.extend(kmers)"
   ]
  },
  {
   "cell_type": "code",
   "execution_count": 10,
   "metadata": {},
   "outputs": [
    {
     "name": "stdout",
     "output_type": "stream",
     "text": [
      "25000\n"
     ]
    }
   ],
   "source": [
    "length_testing = len(docs_test)\n",
    "print length_testing"
   ]
  },
  {
   "cell_type": "code",
   "execution_count": 11,
   "metadata": {
    "collapsed": true
   },
   "outputs": [],
   "source": [
    "docs.extend(docs_test)"
   ]
  },
  {
   "cell_type": "code",
   "execution_count": 12,
   "metadata": {
    "collapsed": true
   },
   "outputs": [],
   "source": [
    "from collections import Counter\n",
    "from scipy.sparse import csr_matrix\n",
    "\n",
    "def build_matrix(docs):\n",
    "    r\"\"\" Build sparse matrix from a list of documents,\n",
    "    each of which is a list of word/terms in the document.\n",
    "    \"\"\"\n",
    "    nrows = len(docs)\n",
    "    idx = {}\n",
    "    tid = 0\n",
    "    nnz = 0\n",
    "    # Remove all ratings\n",
    "    for d in docs:\n",
    "        #d = d[1:]\n",
    "        nnz += len(set(d))\n",
    "        for w in d:\n",
    "            if w not in idx:\n",
    "                idx[w] = tid\n",
    "                tid += 1\n",
    "    ncols = len(idx)\n",
    "\n",
    "    # set up memory\n",
    "    ind = np.zeros(nnz, dtype=np.int)\n",
    "    val = np.zeros(nnz, dtype=np.double)\n",
    "    ptr = np.zeros(nrows+1, dtype=np.int)\n",
    "    i = 0  # document ID / row counter\n",
    "    n = 0  # non-zero counter\n",
    "    # transfer values\n",
    "    for d in docs:\n",
    "        #d = d[1:]\n",
    "        cnt = Counter(d)\n",
    "        keys = list(k for k,_ in cnt.most_common())\n",
    "        l = len(keys)\n",
    "        for j,k in enumerate(keys):\n",
    "            ind[j+n] = idx[k]\n",
    "            val[j+n] = cnt[k]\n",
    "        ptr[i+1] = ptr[i] + l\n",
    "        n += l\n",
    "        i += 1\n",
    "\n",
    "    mat = csr_matrix((val, ind, ptr), shape=(nrows, ncols), dtype=np.double)\n",
    "    mat.sort_indices()\n",
    "\n",
    "    return mat\n",
    "\n",
    "\n",
    "# scale matrix and normalize its rows\n",
    "def csr_idf(mat, copy=False, **kargs):\n",
    "    r\"\"\" Scale a CSR matrix by idf. \n",
    "    Returns scaling factors as dict. If copy is True, \n",
    "    returns scaled matrix and scaling factors.\n",
    "    \"\"\"\n",
    "    if copy is True:\n",
    "        mat = mat.copy()\n",
    "    nrows = mat.shape[0]\n",
    "    nnz = mat.nnz\n",
    "    ind, val, ptr = mat.indices, mat.data, mat.indptr\n",
    "    # document frequency\n",
    "    df = defaultdict(int)\n",
    "    for i in ind:\n",
    "        df[i] += 1\n",
    "    # inverse document frequency\n",
    "    for k,v in df.items():\n",
    "        df[k] = np.log(nrows / float(v))  ## df turns to idf - reusing memory\n",
    "    # scale by idf\n",
    "    for i in range(0, nnz):\n",
    "        val[i] *= df[ind[i]]\n",
    "        \n",
    "    return df if copy is False else mat\n",
    "\n",
    "def csr_l2normalize(mat, copy=False, **kargs):\n",
    "    r\"\"\" Normalize the rows of a CSR matrix by their L-2 norm. \n",
    "    If copy is True, returns a copy of the normalized matrix.\n",
    "    \"\"\"\n",
    "    if copy is True:\n",
    "        mat = mat.copy()\n",
    "    nrows = mat.shape[0]\n",
    "    nnz = mat.nnz\n",
    "    ind, val, ptr = mat.indices, mat.data, mat.indptr\n",
    "    # normalize\n",
    "    for i in range(nrows):\n",
    "        rsum = 0.0    \n",
    "        for j in range(ptr[i], ptr[i+1]):\n",
    "            rsum += val[j]**2\n",
    "        if rsum == 0.0:\n",
    "            continue  # do not normalize empty rows\n",
    "        rsum = 1.0/np.sqrt(rsum)\n",
    "        for j in range(ptr[i], ptr[i+1]):\n",
    "            val[j] *= rsum\n",
    "            \n",
    "    if copy is True:\n",
    "        return mat"
   ]
  },
  {
   "cell_type": "code",
   "execution_count": 13,
   "metadata": {},
   "outputs": [],
   "source": [
    "csr_mat = build_matrix(docs)\n",
    "mat1 = csr_idf(csr_mat, copy=True)\n",
    "mat = csr_l2normalize(mat1, copy=True)"
   ]
  },
  {
   "cell_type": "code",
   "execution_count": 14,
   "metadata": {
    "collapsed": true
   },
   "outputs": [],
   "source": [
    "cos_sim_sparse = cosine_similarity(mat,dense_output=False)"
   ]
  },
  {
   "cell_type": "code",
   "execution_count": 24,
   "metadata": {
    "scrolled": true
   },
   "outputs": [
    {
     "name": "stdout",
     "output_type": "stream",
     "text": [
      "Staring 1\n",
      "Staring 1001\n",
      "Staring 2001\n",
      "Staring 3001\n",
      "Staring 4001\n",
      "Staring 5001\n",
      "Staring 6001\n",
      "Staring 7001\n",
      "Staring 8001\n",
      "Staring 9001\n",
      "Staring 10001\n",
      "Staring 11001\n",
      "Staring 12001\n",
      "Staring 13001\n",
      "Staring 14001\n",
      "Staring 15001\n",
      "Staring 16001\n",
      "Staring 17001\n",
      "Staring 18001\n",
      "Staring 19001\n",
      "Staring 20001\n",
      "Staring 21001\n",
      "Staring 22001\n",
      "Staring 23001\n",
      "Staring 24001\n"
     ]
    }
   ],
   "source": [
    "results = []\n",
    "k=1799\n",
    "zero_counts = 0\n",
    "possible_range = [-1,+1]\n",
    "for i in range(length_training, length_training+length_testing):\n",
    "    if i%1000==1:\n",
    "        print('Staring ' + str(i-25000))\n",
    "    sim_1 = cos_sim_sparse[i, :length_training]\n",
    "    sim_arr = sim_1.toarray()\n",
    "    sim_list = sim_arr.tolist()\n",
    "    sim = sim_list[0]\n",
    "    r = range(len(labels))\n",
    "    sim_labels = zip(sim, labels, r)\n",
    "    sim_sort_labels = sorted(sim_labels, key=lambda (v, k, l): v, reverse=True)\n",
    "    sum = 0\n",
    "    for j in range(k):\n",
    "        if sim_sort_labels[j][0] != 0:\n",
    "            sum = sum + int(sim_sort_labels[j][1])\n",
    "        if sum == 0:\n",
    "            sum = np.random.choice(possible_range, 1, p=[0.3, 0.7])[0]\n",
    "    if sum > 0:\n",
    "        results.append(1)\n",
    "    else:\n",
    "        results.append(-1)\n"
   ]
  },
  {
   "cell_type": "code",
   "execution_count": 25,
   "metadata": {},
   "outputs": [
    {
     "name": "stdout",
     "output_type": "stream",
     "text": [
      "25000\n",
      "1\n",
      "-1\n"
     ]
    }
   ],
   "source": [
    "l = len(results)\n",
    "print(l)\n",
    "print(results[0])\n",
    "print(results[l-1])"
   ]
  },
  {
   "cell_type": "code",
   "execution_count": 26,
   "metadata": {
    "collapsed": true
   },
   "outputs": [],
   "source": [
    "op_file = open('output_k_1799.dat', 'w')\n",
    "for r in results:\n",
    "    if r == 1:\n",
    "        op_file.write(\"+1\\n\")\n",
    "    else:\n",
    "        op_file.write(\"-1\\n\")\n",
    "op_file.close()"
   ]
  },
  {
   "cell_type": "code",
   "execution_count": null,
   "metadata": {
    "collapsed": true
   },
   "outputs": [],
   "source": []
  }
 ],
 "metadata": {
  "kernelspec": {
   "display_name": "Python 2",
   "language": "python",
   "name": "python2"
  },
  "language_info": {
   "codemirror_mode": {
    "name": "ipython",
    "version": 2
   },
   "file_extension": ".py",
   "mimetype": "text/x-python",
   "name": "python",
   "nbconvert_exporter": "python",
   "pygments_lexer": "ipython2",
   "version": "2.7.13"
  }
 },
 "nbformat": 4,
 "nbformat_minor": 2
}
